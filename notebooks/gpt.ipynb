{
 "cells": [
  {
   "cell_type": "code",
   "execution_count": 39,
   "metadata": {},
   "outputs": [
    {
     "name": "stdout",
     "output_type": "stream",
     "text": [
      "1115394\n"
     ]
    }
   ],
   "source": [
    "# Read the input file and print the length of the text\n",
    "with open('/Users/manpreet.singh/git/gpt/notebooks/input.txt', 'r', encoding='utf-8') as f:\n",
    "    text = f.read()\n",
    "\n",
    "print(len(text))"
   ]
  },
  {
   "cell_type": "code",
   "execution_count": 40,
   "metadata": {},
   "outputs": [
    {
     "name": "stdout",
     "output_type": "stream",
     "text": [
      "\n",
      " !$&',-.3:;?ABCDEFGHIJKLMNOPQRSTUVWXYZabcdefghijklmnopqrstuvwxyz\n",
      "65\n"
     ]
    }
   ],
   "source": [
    "# Create the vocabulary\n",
    "chars = sorted(list(set(text)))\n",
    "vocab_size = len(chars)\n",
    "print(''.join(chars))\n",
    "print(vocab_size)"
   ]
  },
  {
   "cell_type": "code",
   "execution_count": 41,
   "metadata": {},
   "outputs": [
    {
     "name": "stdout",
     "output_type": "stream",
     "text": [
      "[46, 43, 50, 50, 53]\n",
      "hello\n"
     ]
    }
   ],
   "source": [
    "# Create the character to index and index to character mapping - tokenization\n",
    "stoi = {ch: i for i, ch in enumerate(chars)}\n",
    "itos = {i: ch for i, ch in enumerate(chars)}\n",
    "encode = lambda s: [stoi[ch] for ch in s]\n",
    "decode = lambda l: ''.join([itos[i] for i in l])\n",
    "\n",
    "print(encode('hello'))\n",
    "print(decode(encode('hello')))"
   ]
  },
  {
   "cell_type": "code",
   "execution_count": 42,
   "metadata": {},
   "outputs": [
    {
     "name": "stdout",
     "output_type": "stream",
     "text": [
      "torch.Size([1115394]) torch.int64\n",
      "tensor([18, 47, 56, 57, 58,  1, 15, 47, 58, 47, 64, 43, 52, 10,  0, 14, 43, 44,\n",
      "        53, 56, 43,  1, 61, 43,  1, 54, 56, 53, 41, 43, 43, 42,  1, 39, 52, 63,\n",
      "         1, 44, 59, 56, 58, 46, 43, 56,  6,  1, 46, 43, 39, 56,  1, 51, 43,  1,\n",
      "        57, 54, 43, 39, 49,  8,  0,  0, 13, 50, 50, 10,  0, 31, 54, 43, 39, 49,\n",
      "         6,  1, 57, 54, 43, 39, 49,  8,  0,  0, 18, 47, 56, 57, 58,  1, 15, 47,\n",
      "        58, 47, 64, 43, 52, 10,  0, 37, 53, 59,  1, 39, 56, 43,  1, 39, 50, 50,\n",
      "         1, 56, 43, 57, 53, 50, 60, 43, 42,  1, 56, 39, 58, 46, 43, 56,  1, 58,\n",
      "        53,  1, 42, 47, 43,  1, 58, 46, 39, 52,  1, 58, 53,  1, 44, 39, 51, 47,\n",
      "        57, 46, 12,  0,  0, 13, 50, 50, 10,  0, 30, 43, 57, 53, 50, 60, 43, 42,\n",
      "         8,  1, 56, 43, 57, 53, 50, 60, 43, 42,  8,  0,  0, 18, 47, 56, 57, 58,\n",
      "         1, 15, 47, 58, 47, 64, 43, 52, 10,  0, 18, 47, 56, 57, 58,  6,  1, 63,\n",
      "        53, 59,  1, 49, 52, 53, 61,  1, 15, 39, 47, 59, 57,  1, 25, 39, 56, 41,\n",
      "        47, 59, 57,  1, 47, 57,  1, 41, 46, 47, 43, 44,  1, 43, 52, 43, 51, 63,\n",
      "         1, 58, 53,  1, 58, 46, 43,  1, 54, 43, 53, 54, 50, 43,  8,  0,  0, 13,\n",
      "        50, 50, 10,  0, 35, 43,  1, 49, 52, 53, 61,  5, 58,  6,  1, 61, 43,  1,\n",
      "        49, 52, 53, 61,  5, 58,  8,  0,  0, 18, 47, 56, 57, 58,  1, 15, 47, 58,\n",
      "        47, 64, 43, 52, 10,  0, 24, 43, 58,  1, 59, 57,  1, 49, 47, 50, 50,  1,\n",
      "        46, 47, 51,  6,  1, 39, 52, 42,  1, 61, 43,  5, 50, 50,  1, 46, 39, 60,\n",
      "        43,  1, 41, 53, 56, 52,  1, 39, 58,  1, 53, 59, 56,  1, 53, 61, 52,  1,\n",
      "        54, 56, 47, 41, 43,  8,  0, 21, 57,  5, 58,  1, 39,  1, 60, 43, 56, 42,\n",
      "        47, 41, 58, 12,  0,  0, 13, 50, 50, 10,  0, 26, 53,  1, 51, 53, 56, 43,\n",
      "         1, 58, 39, 50, 49, 47, 52, 45,  1, 53, 52,  5, 58, 11,  1, 50, 43, 58,\n",
      "         1, 47, 58,  1, 40, 43,  1, 42, 53, 52, 43, 10,  1, 39, 61, 39, 63,  6,\n",
      "         1, 39, 61, 39, 63,  2,  0,  0, 31, 43, 41, 53, 52, 42,  1, 15, 47, 58,\n",
      "        47, 64, 43, 52, 10,  0, 27, 52, 43,  1, 61, 53, 56, 42,  6,  1, 45, 53,\n",
      "        53, 42,  1, 41, 47, 58, 47, 64, 43, 52, 57,  8,  0,  0, 18, 47, 56, 57,\n",
      "        58,  1, 15, 47, 58, 47, 64, 43, 52, 10,  0, 35, 43,  1, 39, 56, 43,  1,\n",
      "        39, 41, 41, 53, 59, 52, 58, 43, 42,  1, 54, 53, 53, 56,  1, 41, 47, 58,\n",
      "        47, 64, 43, 52, 57,  6,  1, 58, 46, 43,  1, 54, 39, 58, 56, 47, 41, 47,\n",
      "        39, 52, 57,  1, 45, 53, 53, 42,  8,  0, 35, 46, 39, 58,  1, 39, 59, 58,\n",
      "        46, 53, 56, 47, 58, 63,  1, 57, 59, 56, 44, 43, 47, 58, 57,  1, 53, 52,\n",
      "         1, 61, 53, 59, 50, 42,  1, 56, 43, 50, 47, 43, 60, 43,  1, 59, 57, 10,\n",
      "         1, 47, 44,  1, 58, 46, 43, 63,  0, 61, 53, 59, 50, 42,  1, 63, 47, 43,\n",
      "        50, 42,  1, 59, 57,  1, 40, 59, 58,  1, 58, 46, 43,  1, 57, 59, 54, 43,\n",
      "        56, 44, 50, 59, 47, 58, 63,  6,  1, 61, 46, 47, 50, 43,  1, 47, 58,  1,\n",
      "        61, 43, 56, 43,  0, 61, 46, 53, 50, 43, 57, 53, 51, 43,  6,  1, 61, 43,\n",
      "         1, 51, 47, 45, 46, 58,  1, 45, 59, 43, 57, 57,  1, 58, 46, 43, 63,  1,\n",
      "        56, 43, 50, 47, 43, 60, 43, 42,  1, 59, 57,  1, 46, 59, 51, 39, 52, 43,\n",
      "        50, 63, 11,  0, 40, 59, 58,  1, 58, 46, 43, 63,  1, 58, 46, 47, 52, 49,\n",
      "         1, 61, 43,  1, 39, 56, 43,  1, 58, 53, 53,  1, 42, 43, 39, 56, 10,  1,\n",
      "        58, 46, 43,  1, 50, 43, 39, 52, 52, 43, 57, 57,  1, 58, 46, 39, 58,  0,\n",
      "        39, 44, 44, 50, 47, 41, 58, 57,  1, 59, 57,  6,  1, 58, 46, 43,  1, 53,\n",
      "        40, 48, 43, 41, 58,  1, 53, 44,  1, 53, 59, 56,  1, 51, 47, 57, 43, 56,\n",
      "        63,  6,  1, 47, 57,  1, 39, 57,  1, 39, 52,  0, 47, 52, 60, 43, 52, 58,\n",
      "        53, 56, 63,  1, 58, 53,  1, 54, 39, 56, 58, 47, 41, 59, 50, 39, 56, 47,\n",
      "        57, 43,  1, 58, 46, 43, 47, 56,  1, 39, 40, 59, 52, 42, 39, 52, 41, 43,\n",
      "        11,  1, 53, 59, 56,  0, 57, 59, 44, 44, 43, 56, 39, 52, 41, 43,  1, 47,\n",
      "        57,  1, 39,  1, 45, 39, 47, 52,  1, 58, 53,  1, 58, 46, 43, 51,  1, 24,\n",
      "        43, 58,  1, 59, 57,  1, 56, 43, 60, 43, 52, 45, 43,  1, 58, 46, 47, 57,\n",
      "         1, 61, 47, 58, 46,  0, 53, 59, 56,  1, 54, 47, 49, 43, 57,  6,  1, 43,\n",
      "        56, 43,  1, 61, 43,  1, 40, 43, 41, 53, 51, 43,  1, 56, 39, 49, 43, 57,\n",
      "        10,  1, 44, 53, 56,  1, 58, 46, 43,  1, 45, 53, 42, 57,  1, 49, 52, 53,\n",
      "        61,  1, 21,  0, 57, 54, 43, 39, 49,  1, 58, 46, 47, 57,  1, 47, 52,  1,\n",
      "        46, 59, 52, 45, 43, 56,  1, 44, 53, 56,  1, 40, 56, 43, 39, 42,  6,  1,\n",
      "        52, 53, 58,  1, 47, 52,  1, 58, 46, 47, 56, 57, 58,  1, 44, 53, 56,  1,\n",
      "        56, 43, 60, 43, 52, 45, 43,  8,  0,  0])\n"
     ]
    }
   ],
   "source": [
    "# create the tensor\n",
    "import torch\n",
    "data = torch.tensor(encode(text), dtype=torch.long)\n",
    "print(data.shape, data.dtype)\n",
    "print(data[:1000])"
   ]
  },
  {
   "cell_type": "code",
   "execution_count": 43,
   "metadata": {},
   "outputs": [],
   "source": [
    "# lets split into training and validation set\n",
    "n = int(0.9 * len(data)) # 90% training, 10% validation\n",
    "train_data, valid_data = data[:n], data[n:]"
   ]
  },
  {
   "cell_type": "code",
   "execution_count": 44,
   "metadata": {},
   "outputs": [
    {
     "name": "stdout",
     "output_type": "stream",
     "text": [
      "When input is tensor([18]) then target: 18\n",
      "When input is tensor([18, 47]) then target: 47\n",
      "When input is tensor([18, 47, 56]) then target: 56\n",
      "When input is tensor([18, 47, 56, 57]) then target: 57\n",
      "When input is tensor([18, 47, 56, 57, 58]) then target: 58\n",
      "When input is tensor([18, 47, 56, 57, 58,  1]) then target: 1\n",
      "When input is tensor([18, 47, 56, 57, 58,  1, 15]) then target: 15\n",
      "When input is tensor([18, 47, 56, 57, 58,  1, 15, 47]) then target: 47\n"
     ]
    }
   ],
   "source": [
    "# This will help transformer see the context ranging from single character to the block_size\n",
    "# This is the time dimension for the transformer\n",
    "# Chunks and block size\n",
    "block_size = 8 # context length\n",
    "train_data[:block_size + 1] # basically 8 examples are packed in block_size\n",
    "\n",
    "x = train_data[:block_size]\n",
    "y = train_data[:block_size + 1]\n",
    "for t in range(block_size):\n",
    "    context = x[:t+1]\n",
    "    target = y[t]\n",
    "    print(f'When input is {context} then target: {target}')\n"
   ]
  },
  {
   "cell_type": "code",
   "execution_count": 45,
   "metadata": {},
   "outputs": [
    {
     "name": "stdout",
     "output_type": "stream",
     "text": [
      "inputs\n",
      "torch.Size([4, 8])\n",
      "tensor([[24, 43, 58,  5, 57,  1, 46, 43],\n",
      "        [44, 53, 56,  1, 58, 46, 39, 58],\n",
      "        [52, 58,  1, 58, 46, 39, 58,  1],\n",
      "        [25, 17, 27, 10,  0, 21,  1, 54]])\n",
      "targets\n",
      "torch.Size([4, 8])\n",
      "tensor([[43, 58,  5, 57,  1, 46, 43, 39],\n",
      "        [53, 56,  1, 58, 46, 39, 58,  1],\n",
      "        [58,  1, 58, 46, 39, 58,  1, 46],\n",
      "        [17, 27, 10,  0, 21,  1, 54, 39]])\n",
      "-----------------\n",
      "Batch: 0, When input is tensor([24]) then target: 43\n",
      "Batch: 0, When input is tensor([24, 43]) then target: 58\n",
      "Batch: 0, When input is tensor([24, 43, 58]) then target: 5\n",
      "Batch: 0, When input is tensor([24, 43, 58,  5]) then target: 57\n",
      "Batch: 0, When input is tensor([24, 43, 58,  5, 57]) then target: 1\n",
      "Batch: 0, When input is tensor([24, 43, 58,  5, 57,  1]) then target: 46\n",
      "Batch: 0, When input is tensor([24, 43, 58,  5, 57,  1, 46]) then target: 43\n",
      "Batch: 0, When input is tensor([24, 43, 58,  5, 57,  1, 46, 43]) then target: 39\n",
      "Batch: 1, When input is tensor([44]) then target: 53\n",
      "Batch: 1, When input is tensor([44, 53]) then target: 56\n",
      "Batch: 1, When input is tensor([44, 53, 56]) then target: 1\n",
      "Batch: 1, When input is tensor([44, 53, 56,  1]) then target: 58\n",
      "Batch: 1, When input is tensor([44, 53, 56,  1, 58]) then target: 46\n",
      "Batch: 1, When input is tensor([44, 53, 56,  1, 58, 46]) then target: 39\n",
      "Batch: 1, When input is tensor([44, 53, 56,  1, 58, 46, 39]) then target: 58\n",
      "Batch: 1, When input is tensor([44, 53, 56,  1, 58, 46, 39, 58]) then target: 1\n",
      "Batch: 2, When input is tensor([52]) then target: 58\n",
      "Batch: 2, When input is tensor([52, 58]) then target: 1\n",
      "Batch: 2, When input is tensor([52, 58,  1]) then target: 58\n",
      "Batch: 2, When input is tensor([52, 58,  1, 58]) then target: 46\n",
      "Batch: 2, When input is tensor([52, 58,  1, 58, 46]) then target: 39\n",
      "Batch: 2, When input is tensor([52, 58,  1, 58, 46, 39]) then target: 58\n",
      "Batch: 2, When input is tensor([52, 58,  1, 58, 46, 39, 58]) then target: 1\n",
      "Batch: 2, When input is tensor([52, 58,  1, 58, 46, 39, 58,  1]) then target: 46\n",
      "Batch: 3, When input is tensor([25]) then target: 17\n",
      "Batch: 3, When input is tensor([25, 17]) then target: 27\n",
      "Batch: 3, When input is tensor([25, 17, 27]) then target: 10\n",
      "Batch: 3, When input is tensor([25, 17, 27, 10]) then target: 0\n",
      "Batch: 3, When input is tensor([25, 17, 27, 10,  0]) then target: 21\n",
      "Batch: 3, When input is tensor([25, 17, 27, 10,  0, 21]) then target: 1\n",
      "Batch: 3, When input is tensor([25, 17, 27, 10,  0, 21,  1]) then target: 54\n",
      "Batch: 3, When input is tensor([25, 17, 27, 10,  0, 21,  1, 54]) then target: 39\n"
     ]
    }
   ],
   "source": [
    "# Lets us get both time and batch dimension done\n",
    "# Multiple sequences are selected in a batch, each sequence is block_size long, gpus are good at parallel processing\n",
    "torch.manual_seed(1337)\n",
    "batch_size = 4 # number of sequences in a mini batch\n",
    "block_size = 8 # context length of each sequence\n",
    "\n",
    "def get_batch(split):\n",
    "    # generate a small batch of data of input x and target y\n",
    "    if split == 'train':\n",
    "        data = train_data\n",
    "    else:\n",
    "        data = valid_data\n",
    "    ix = torch.randint(len(data) - block_size, (batch_size,)) # starting index of each sequence\n",
    "    x = [data[i:i+block_size] for i in ix] # get the sequences\n",
    "    y = [data[i+1:i+block_size+1] for i in ix] # get the target sequences\n",
    "    return torch.stack(x), torch.stack(y) # stack the sequences\n",
    "\n",
    "xb, yb = get_batch('train')\n",
    "print('inputs')\n",
    "print(xb.shape)\n",
    "print(xb)\n",
    "print('targets')\n",
    "print(yb.shape)\n",
    "print(yb)\n",
    "\n",
    "print('-----------------')\n",
    "\n",
    "for b in range(batch_size):\n",
    "    for t in range(block_size):\n",
    "        context = xb[b, :t+1]\n",
    "        target = yb[b, t]\n",
    "        print(f'Batch: {b}, When input is {context} then target: {target}')\n",
    "    \n"
   ]
  },
  {
   "cell_type": "code",
   "execution_count": 46,
   "metadata": {},
   "outputs": [
    {
     "name": "stdout",
     "output_type": "stream",
     "text": [
      "tensor([[24, 43, 58,  5, 57,  1, 46, 43],\n",
      "        [44, 53, 56,  1, 58, 46, 39, 58],\n",
      "        [52, 58,  1, 58, 46, 39, 58,  1],\n",
      "        [25, 17, 27, 10,  0, 21,  1, 54]])\n"
     ]
    }
   ],
   "source": [
    "print(xb) # our input to the transformer"
   ]
  },
  {
   "cell_type": "code",
   "execution_count": 49,
   "metadata": {},
   "outputs": [
    {
     "name": "stdout",
     "output_type": "stream",
     "text": [
      "torch.Size([32, 65])\n",
      "tensor(4.8786, grad_fn=<NllLossBackward0>)\n",
      "\n",
      "SKIcLT;AcELMoTbvZv C?nq-QE33:CJqkOKH-q;:la!oiywkHjgChzbQ?u!3bLIgwevmyFJGUGp\n",
      "wnYWmnxKWWev-tDqXErVKLgJ\n"
     ]
    }
   ],
   "source": [
    "# simple Bigram model\n",
    "import torch\n",
    "import torch.nn as nn\n",
    "from torch.nn import functional as F\n",
    "torch.manual_seed(1337)\n",
    "\n",
    "class BigramLanguageModel(nn.Module):\n",
    "    def __init__(self, vocab_size):\n",
    "        super().__init__()\n",
    "        # each token directly reads of the logits for the next token from the look up table\n",
    "        self.token_embedding_table = nn.Embedding(vocab_size, vocab_size)\n",
    "        \n",
    "    def forward(self, idx, targets=None):\n",
    "        # idx is the input to the model\n",
    "        logits = self.token_embedding_table(idx) # (batch_size, block_size, vocab_size) (B, T, C)\n",
    "\n",
    "        if targets is None:\n",
    "            loss = None\n",
    "        else:\n",
    "            B, T, C = logits.shape\n",
    "            logits = logits.view(B*T, C)\n",
    "            targets = targets.view(B*T)\n",
    "            loss = F.cross_entropy(logits, targets)\n",
    "\n",
    "        return logits, loss\n",
    "    \n",
    "    def generate(self, idx, max_new_tokens):\n",
    "        # idx is the input to the model (B*T)\n",
    "        for _ in range(max_new_tokens):\n",
    "            logits, loss = self(idx) # (B*T, C)\n",
    "            logits = logits[:, -1, :] # get the logits for the last token (B, C), we use only the last token to predict the next token\n",
    "            probs = F.softmax(logits, dim=-1) # (B, C)\n",
    "            next_token = torch.multinomial(probs, num_samples=1) # (B, 1)\n",
    "            idx = torch.cat([idx, next_token], dim=1) # (B, T+1)\n",
    "            #print(idx)\n",
    "        return idx\n",
    "    \n",
    "model = BigramLanguageModel(vocab_size)\n",
    "logits, loss = model(xb, yb)\n",
    "print(logits.shape)\n",
    "print(loss)\n",
    "\n",
    "idx = torch.zeros((1, 1), dtype=torch.long)\n",
    "print(decode(model.generate(idx, max_new_tokens=100)[0].tolist()))\n"
   ]
  },
  {
   "cell_type": "code",
   "execution_count": 50,
   "metadata": {},
   "outputs": [
    {
     "name": "stdout",
     "output_type": "stream",
     "text": [
      "token_embedding_table.weight torch.Size([65, 65])\n"
     ]
    }
   ],
   "source": [
    "for name, param in model.named_parameters():\n",
    "    print(name, param.shape)\n",
    "\n",
    "import torch.optim as optim\n",
    "# Create a pytorch optimizer\n",
    "optimizer = torch.optim.Adam(model.parameters(), lr=1e-3)"
   ]
  },
  {
   "cell_type": "code",
   "execution_count": 51,
   "metadata": {},
   "outputs": [
    {
     "name": "stdout",
     "output_type": "stream",
     "text": [
      "2.3796486854553223\n"
     ]
    }
   ],
   "source": [
    "batch_size = 32\n",
    "for steps in range(10000):\n",
    "    # sample a batch of data\n",
    "    xb, yb = get_batch('train')\n",
    "\n",
    "    # forward pass\n",
    "    logits, loss = model(xb, yb)\n",
    "    optimizer.zero_grad(set_to_none=True)\n",
    "    loss.backward()\n",
    "    optimizer.step()\n",
    "\n",
    "print(loss.item())"
   ]
  },
  {
   "cell_type": "code",
   "execution_count": 52,
   "metadata": {},
   "outputs": [
    {
     "name": "stdout",
     "output_type": "stream",
     "text": [
      "\n",
      "llo br. ave aviasurf my, mayo t ivee iuedrd whar ksth y h bora s be hese, woweee; the! KI 'de, ulseecherd d o blllando;\n",
      "\n",
      "Whe, oraingofof win!\n",
      "RIfans picspeserer hee tha,\n",
      "TOFonk? me ain ckntoty dedo bo'llll st ta d:\n",
      "ELIS me hurf lal y, ma dus pe athouo\n",
      "By bre ndy; by s afreanoo adicererupa anse tecorro llaus a!\n",
      "OLeneerithesinthengove fal amas trr\n",
      "TI ar I t, mes, n sar; my w, fredeeyong\n",
      "THek' merer, dd\n",
      "We ntem lud engitheso; cer ize helorowaginte the?\n",
      "Thak orblyoruldvicee chot, pannd e Yolde Th li\n"
     ]
    }
   ],
   "source": [
    "print(decode(model.generate(torch.zeros((1, 1), dtype=torch.long), max_new_tokens=500)[0].tolist()))"
   ]
  },
  {
   "cell_type": "code",
   "execution_count": null,
   "metadata": {},
   "outputs": [],
   "source": [
    "# so far we see that the above model is a very simple one and looking at the last token to predict the next token,\n",
    "# not considering the context, i.e. no token is talking to each other.\n",
    "\n",
    "# study the embedding class"
   ]
  },
  {
   "cell_type": "markdown",
   "metadata": {},
   "source": [
    "SUPER CRITICAL"
   ]
  },
  {
   "cell_type": "code",
   "execution_count": 80,
   "metadata": {},
   "outputs": [
    {
     "name": "stdout",
     "output_type": "stream",
     "text": [
      "torch.Size([4, 8, 2])\n"
     ]
    }
   ],
   "source": [
    "# Mathematical trick for self attention\n",
    "\n",
    "# toy example\n",
    "torch.manual_seed(1337)\n",
    "B, T, C = 4, 8, 2 # batch size, time dimension, channels\n",
    "x = torch.randn(B, T, C) # input to the transformer\n",
    "print(x.shape)\n",
    "\n",
    "# 8 tokens above have not been talking to each other at all, so far\n",
    "# token at 5th position should not talk to future tokens, only to the past tokens\n",
    "# C is also called the information at a particular token\n",
    "\n",
    "# one of the best way for getting the information from the past tokens is to take the weighted average of the past tokens, \n",
    "# like for the 5th token, we take the weighted average of the first 4 tokens + information at the 5th token\n",
    "# this average becomes like the feature vector for the 5th token\n",
    "\n",
    "# using average is not a good idea, its a weak form of information carrying and very lossy\n",
    "# spatial arrangments of the tokens is not considered in the above approach, very bad :)\n",
    "\n",
    "# lets write the above, we want x[b, t] = mean_{i<t} x[b, i]\n",
    "# version 1\n",
    "xbow = torch.zeros((B, T, C))\n",
    "for b in range(B):\n",
    "    for t in range(T):\n",
    "        xprev = x[b, :t+1] # (t, C)\n",
    "        xbow[b, t] = torch.mean(xprev, 0) # (C)\n",
    "\n",
    "# what we did above is created xbag of words, xbow - to store the information of the past tokens (average of the past tokens)"
   ]
  },
  {
   "cell_type": "code",
   "execution_count": 81,
   "metadata": {},
   "outputs": [
    {
     "data": {
      "text/plain": [
       "True"
      ]
     },
     "execution_count": 81,
     "metadata": {},
     "output_type": "execute_result"
    }
   ],
   "source": [
    "# version 2\n",
    "# lets do the same using matrix multiplication\n",
    "wei = torch.tril(torch.ones(T, T)) # (T, T) lower triangular matrix\n",
    "wei = wei / wei.sum(1, keepdim=True) # (T, T) row sum to 1\n",
    "xbow2 = wei @ x # (B, T, T) @ (B, T, C) -> (B, T, C)\n",
    "torch.allclose(xbow2, xbow)"
   ]
  },
  {
   "cell_type": "code",
   "execution_count": 82,
   "metadata": {},
   "outputs": [
    {
     "data": {
      "text/plain": [
       "True"
      ]
     },
     "execution_count": 82,
     "metadata": {},
     "output_type": "execute_result"
    }
   ],
   "source": [
    "# version 3\n",
    "# lets do the same using softmax\n",
    "tril = torch.tril(torch.ones(T, T)) # (T, T) lower triangular matrix\n",
    "wei = torch.zeros(T, T) # (T, T)\n",
    "wei = wei.masked_fill(tril == 0, float('-inf')) # (T, T) mask the upper triangular part\n",
    "wei = F.softmax(wei, dim=-1) # (T, T) row sum to 1\n",
    "xbow3 = wei @ x # (B, T, T) @ (B, T, C) -> (B, T, C)\n",
    "torch.allclose(xbow3, xbow)\n",
    "\n",
    "# something very interesting is happening here, \n",
    "# we create a tril matrix,\n",
    "# we create a wei matrix with all 0s, then we mask the upper triangular part with -inf (inf to make sure that you cannot interact with the future tokens)\n",
    "# then we apply softmax to the masked matrix,\n",
    "# then we multiply the softmax matrix with the input x\n",
    "# this gives us the xbow, the information of the past tokens\n",
    "# **** the wei matrix starts with zero and then starts storing the effinities of different tokens with respect to the current token ****\n",
    "# **** the effinities are calculated using the softmax function, taking exp and then div by the sum ****"
   ]
  },
  {
   "cell_type": "code",
   "execution_count": 91,
   "metadata": {},
   "outputs": [
    {
     "name": "stdout",
     "output_type": "stream",
     "text": [
      "tensor([[-1.7629, -1.3011,  0.5652,  2.1616, -1.0674,  1.9632,  1.0765, -0.4530],\n",
      "        [-3.3334, -1.6556,  0.1040,  3.3782, -2.1825,  1.0415, -0.0557,  0.2927],\n",
      "        [-1.0226, -1.2606,  0.0762, -0.3813, -0.9843, -1.4303,  0.0749, -0.9547],\n",
      "        [ 0.7836, -0.8014, -0.3368, -0.8496, -0.5602, -1.1701, -1.2927, -1.0260],\n",
      "        [-1.2566,  0.0187, -0.7880, -1.3204,  2.0363,  0.8638,  0.3719,  0.9258],\n",
      "        [-0.3126,  2.4152, -0.1106, -0.9931,  3.3449, -2.5229,  1.4187,  1.2196],\n",
      "        [ 1.0876,  1.9652, -0.2621, -0.3158,  0.6091,  1.2616, -0.5484,  0.8048],\n",
      "        [-1.8044, -0.4126, -0.8306,  0.5898, -0.7987, -0.5856,  0.6433,  0.6303]],\n",
      "       grad_fn=<SelectBackward0>)\n",
      "-----------------\n",
      "tensor([[-1.7629,    -inf,    -inf,    -inf,    -inf,    -inf,    -inf,    -inf],\n",
      "        [-3.3334, -1.6556,    -inf,    -inf,    -inf,    -inf,    -inf,    -inf],\n",
      "        [-1.0226, -1.2606,  0.0762,    -inf,    -inf,    -inf,    -inf,    -inf],\n",
      "        [ 0.7836, -0.8014, -0.3368, -0.8496,    -inf,    -inf,    -inf,    -inf],\n",
      "        [-1.2566,  0.0187, -0.7880, -1.3204,  2.0363,    -inf,    -inf,    -inf],\n",
      "        [-0.3126,  2.4152, -0.1106, -0.9931,  3.3449, -2.5229,    -inf,    -inf],\n",
      "        [ 1.0876,  1.9652, -0.2621, -0.3158,  0.6091,  1.2616, -0.5484,    -inf],\n",
      "        [-1.8044, -0.4126, -0.8306,  0.5898, -0.7987, -0.5856,  0.6433,  0.6303]],\n",
      "       grad_fn=<SelectBackward0>)\n",
      "-----------------\n",
      "tensor([[1.0000, 0.0000, 0.0000, 0.0000, 0.0000, 0.0000, 0.0000, 0.0000],\n",
      "        [0.1574, 0.8426, 0.0000, 0.0000, 0.0000, 0.0000, 0.0000, 0.0000],\n",
      "        [0.2088, 0.1646, 0.6266, 0.0000, 0.0000, 0.0000, 0.0000, 0.0000],\n",
      "        [0.5792, 0.1187, 0.1889, 0.1131, 0.0000, 0.0000, 0.0000, 0.0000],\n",
      "        [0.0294, 0.1052, 0.0469, 0.0276, 0.7909, 0.0000, 0.0000, 0.0000],\n",
      "        [0.0176, 0.2689, 0.0215, 0.0089, 0.6812, 0.0019, 0.0000, 0.0000],\n",
      "        [0.1691, 0.4066, 0.0438, 0.0416, 0.1048, 0.2012, 0.0329, 0.0000],\n",
      "        [0.0210, 0.0843, 0.0555, 0.2297, 0.0573, 0.0709, 0.2423, 0.2391]],\n",
      "       grad_fn=<SelectBackward0>)\n",
      "-----------------\n"
     ]
    }
   ],
   "source": [
    "# version 4 - self attention\n",
    "torch.manual_seed(1337)\n",
    "B, T, C = 4, 8, 32 # batch size, time dimension, channels\n",
    "x = torch.randn(B, T, C) # input to the transformer\n",
    "\n",
    "# lets see a single head perform self attention\n",
    "head_size = 16\n",
    "key = nn.Linear(C, head_size, bias=False) # (C, H)\n",
    "query = nn.Linear(C, head_size, bias=False) # (C, H)\n",
    "value = nn.Linear(C, head_size, bias=False) # (C, H)\n",
    "k = key(x)   # (B, T, 16)\n",
    "q = query(x) # (B, T, 16)\n",
    "# At this point, at each position, for each token we have a key and a query. All done in parallel. None is yet communicating with each other.\n",
    "# lets comminicate\n",
    "wei = q @ k.transpose(-2, -1) # (B, T, 16) @ (B, 16, T) -> (B, T, T), for every row in B, the effinities are given by a square matrix T x T\n",
    "print(wei[0])\n",
    "\n",
    "tril = torch.tril(torch.ones(T, T)) # (T, T) lower triangular matrix\n",
    "# wei = torch.zeros((T, T)) # (T, T)\n",
    "wei = wei.masked_fill(tril == 0, float('-inf')) # (T, T) mask the upper triangular part\n",
    "print('-----------------')\n",
    "print(wei[0])\n",
    "wei = F.softmax(wei, dim=-1) # (T, T) row sum to 1\n",
    "print('-----------------')\n",
    "print(wei[0])\n",
    "\n",
    "v = value(x) # (B, T, 16)\n",
    "out = wei @ v # (B, T, T) @ (B, T, 16) -> (B, T, 16)\n",
    "#out = wei @ x # (B, T, T) @ (B, T, C) -> (B, T, C)\n",
    "out.shape\n",
    "print('-----------------')\n",
    "# print(out[0])\n",
    "\n",
    "\n",
    "# above is a simple mechanism of getting information from the past tokens\n",
    "# but what we want is that each token wants to talk to all prev tokens or rather look for data dependencies in the past tokens, \n",
    "# vowels are interested in knowing about consonants in the past, consonants are interested in knowing about vowels in the past\n",
    "\n",
    "# [0.0210, 0.0843, 0.0555, 0.2297, 0.0573, 0.0709, 0.2423, 0.2391]]\n",
    "# 8th token knows what content it has and its position. Based on which the token creates a query (i am looking for that), i am a vowel and i am looking for consonants\n",
    "# upto positions 1 to 7. All the token from 1 to 7 emits keys, and may be one of the channel indicates that it is consonant. When query and key are dot prodcuted, it creates\n",
    "# a high value indicating the higher effinity.\n",
    "\n",
    "# at the end we dont aggregate with x exactly, but with value v.\n",
    "# x is the private information of the token, v is more like a public information of the token\n",
    "# i am 5th token, my original identity is kept in x, \n",
    "# v instead has, for a single head, this is what i am interested in, here is what i have, if u find me inetresting here is what i will communicate to you\n",
    "\n",
    "# 1. ultimately attention is just a communication mechanism. It is a way to communicate between the tokens.\n",
    "# 2. attention mechanism in its basic form do not have idea about position (notion of space should be added), unlike convolutional neural networks\n",
    "# 3. across batch dimension, we are not communicating, we are communicating only within the batch dimension\n",
    "# 4. sometimes like for sentiment analysis, all tokens can communicate with each other, basically we call it encoder block, basically we just remove line with '-inf'\n",
    "# 5. above implementation is called decoder block (nodes from future never talk to the past nodes), this is a.k.a autoregressive model\n",
    "# 6. unlike self attention above where k,q,v are working on same node pool. The cross attention can have q from one node pool and k,v from another node pool, q is pulling information from second node pool\n",
    "# 7. in the main attention formula, we also have to divide by sqrt(d_k). d_k is the head size, also called scaled attention. \n",
    "#    k, q are unit variance i.e. unit guassian inputs, 'wei' will be unit variance too. see below.\n",
    "#    'wei' is fed to softmax, its important to variance of wei near to 1. If variance is high, softmax will saturate and if variance is low, softmax will be very peaky.\n"
   ]
  },
  {
   "cell_type": "code",
   "execution_count": 95,
   "metadata": {},
   "outputs": [
    {
     "name": "stdout",
     "output_type": "stream",
     "text": [
      "tensor(1.0104) tensor(1.0204) tensor(1.1053)\n"
     ]
    }
   ],
   "source": [
    "k = torch.randn(B, T, head_size)\n",
    "q = torch.randn(B, T, head_size)\n",
    "wei = q @ k.transpose(-2, -1) * head_size**-0.5\n",
    "\n",
    "# wei's variance is in the order of head_size, so we divide by sqrt(head_size) to make it unit variance\n",
    "print(k.var(), q.var(), wei.var())"
   ]
  },
  {
   "cell_type": "code",
   "execution_count": 84,
   "metadata": {},
   "outputs": [
    {
     "data": {
      "text/plain": [
       "tensor([[1.0000, 0.0000, 0.0000, 0.0000, 0.0000, 0.0000, 0.0000, 0.0000],\n",
       "        [0.1574, 0.8426, 0.0000, 0.0000, 0.0000, 0.0000, 0.0000, 0.0000],\n",
       "        [0.2088, 0.1646, 0.6266, 0.0000, 0.0000, 0.0000, 0.0000, 0.0000],\n",
       "        [0.5792, 0.1187, 0.1889, 0.1131, 0.0000, 0.0000, 0.0000, 0.0000],\n",
       "        [0.0294, 0.1052, 0.0469, 0.0276, 0.7909, 0.0000, 0.0000, 0.0000],\n",
       "        [0.0176, 0.2689, 0.0215, 0.0089, 0.6812, 0.0019, 0.0000, 0.0000],\n",
       "        [0.1691, 0.4066, 0.0438, 0.0416, 0.1048, 0.2012, 0.0329, 0.0000],\n",
       "        [0.0210, 0.0843, 0.0555, 0.2297, 0.0573, 0.0709, 0.2423, 0.2391]],\n",
       "       grad_fn=<SelectBackward0>)"
      ]
     },
     "execution_count": 84,
     "metadata": {},
     "output_type": "execute_result"
    }
   ],
   "source": [
    "wei[0]"
   ]
  },
  {
   "cell_type": "code",
   "execution_count": 58,
   "metadata": {},
   "outputs": [
    {
     "data": {
      "text/plain": [
       "tensor([[ 0.1808, -0.0700],\n",
       "        [-0.3596, -0.9152],\n",
       "        [ 0.6258,  0.0255],\n",
       "        [ 0.9545,  0.0643],\n",
       "        [ 0.3612,  1.1679],\n",
       "        [-1.3499, -0.5102],\n",
       "        [ 0.2360, -0.2398],\n",
       "        [-0.9211,  1.5433]])"
      ]
     },
     "execution_count": 58,
     "metadata": {},
     "output_type": "execute_result"
    }
   ],
   "source": [
    "x[0]"
   ]
  },
  {
   "cell_type": "code",
   "execution_count": 59,
   "metadata": {},
   "outputs": [
    {
     "data": {
      "text/plain": [
       "tensor([[ 0.1808, -0.0700],\n",
       "        [-0.0894, -0.4926],\n",
       "        [ 0.1490, -0.3199],\n",
       "        [ 0.3504, -0.2238],\n",
       "        [ 0.3525,  0.0545],\n",
       "        [ 0.0688, -0.0396],\n",
       "        [ 0.0927, -0.0682],\n",
       "        [-0.0341,  0.1332]])"
      ]
     },
     "execution_count": 59,
     "metadata": {},
     "output_type": "execute_result"
    }
   ],
   "source": [
    "xbow[0]"
   ]
  },
  {
   "cell_type": "code",
   "execution_count": 60,
   "metadata": {},
   "outputs": [],
   "source": [
    "# you see above how the element wise average is taken for the past tokens\n",
    "# e.g. [-0.0341,  0.1332] is the average of all the previous tokens\n",
    "\n",
    "# Very inefficient way of doing the above, lets apply the trick"
   ]
  },
  {
   "cell_type": "code",
   "execution_count": 64,
   "metadata": {},
   "outputs": [
    {
     "name": "stdout",
     "output_type": "stream",
     "text": [
      "a=\n",
      "tensor([[1.0000, 0.0000, 0.0000],\n",
      "        [0.5000, 0.5000, 0.0000],\n",
      "        [0.3333, 0.3333, 0.3333]])\n",
      "--\n",
      "b=\n",
      "tensor([[2., 7.],\n",
      "        [6., 4.],\n",
      "        [6., 5.]])\n",
      "--\n",
      "c=\n",
      "tensor([[2.0000, 7.0000],\n",
      "        [4.0000, 5.5000],\n",
      "        [4.6667, 5.3333]])\n"
     ]
    },
    {
     "data": {
      "text/plain": [
       "tensor([[1., 0., 0.],\n",
       "        [1., 1., 0.],\n",
       "        [1., 1., 1.]])"
      ]
     },
     "execution_count": 64,
     "metadata": {},
     "output_type": "execute_result"
    }
   ],
   "source": [
    "# lets do the above using matrix multiplication\n",
    "\n",
    "# toy example\n",
    "torch.manual_seed(42)\n",
    "a = torch.tril(torch.ones(3, 3))\n",
    "a = a / torch.sum(a, dim=1, keepdim=True)\n",
    "b = torch.randint(0, 10, (3, 2)).float()\n",
    "c = a @ b\n",
    "print('a=')\n",
    "print(a)\n",
    "print('--')\n",
    "print('b=')\n",
    "print(b)\n",
    "print('--')\n",
    "print('c=')\n",
    "print(c)\n",
    "\n",
    "# here row of a is multiplied with the column of b, dot product is taken\n",
    "\n",
    "# tril is the lower triangular matrix\n",
    "torch.tril(torch.ones(3, 3))\n",
    "# we used tril in a, the result is amazing, a @ b, the result is the weighted average\n",
    "# imagine if we apply tril matrix and do matrix/torch.sum, multiply with x, we will get the weighted average of the past tokens\n"
   ]
  }
 ],
 "metadata": {
  "kernelspec": {
   "display_name": "py310",
   "language": "python",
   "name": "python3"
  },
  "language_info": {
   "codemirror_mode": {
    "name": "ipython",
    "version": 3
   },
   "file_extension": ".py",
   "mimetype": "text/x-python",
   "name": "python",
   "nbconvert_exporter": "python",
   "pygments_lexer": "ipython3",
   "version": "3.10.11"
  }
 },
 "nbformat": 4,
 "nbformat_minor": 2
}
